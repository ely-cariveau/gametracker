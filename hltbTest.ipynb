{
 "cells": [
  {
   "cell_type": "code",
   "id": "initial_id",
   "metadata": {
    "collapsed": true,
    "ExecuteTime": {
     "end_time": "2024-09-10T22:41:04.778357Z",
     "start_time": "2024-09-10T22:41:04.773529Z"
    }
   },
   "source": [
    "from howlongtobeatpy import HowLongToBeat\n",
    "from howlongtobeatpy import HowLongToBeatEntry\n",
    "\n",
    "\n",
    "def fetchHltbData(gameName):\n",
    "    HowLongToBeatEntry.__init__(HowLongToBeat())\n",
    "\n",
    "    results_list = HowLongToBeat().search(gameName)\n",
    "    if results_list is not None and len(results_list) > 0:\n",
    "        global best_element\n",
    "        best_element = max(results_list, key=lambda element: element.similarity)\n",
    "\n",
    "    print(best_element.json_content)"
   ],
   "outputs": [],
   "execution_count": 61
  },
  {
   "metadata": {
    "ExecuteTime": {
     "end_time": "2024-09-10T22:41:49.126321Z",
     "start_time": "2024-09-10T22:41:48.468717Z"
    }
   },
   "cell_type": "code",
   "source": "fetchHltbData('Return of the obra Dinn')",
   "id": "5847d31027e59175",
   "outputs": [
    {
     "name": "stdout",
     "output_type": "stream",
     "text": [
      "{'game_id': 61882, 'game_name': 'Return of the Obra Dinn', 'game_name_date': 0, 'game_alias': '', 'game_type': 'game', 'game_image': '61882_Return_of_the_Obra_Dinn.jpg', 'comp_lvl_combine': 0, 'comp_lvl_sp': 1, 'comp_lvl_co': 0, 'comp_lvl_mp': 0, 'comp_main': 29514, 'comp_plus': 34522, 'comp_100': 37655, 'comp_all': 34929, 'comp_main_count': 542, 'comp_plus_count': 467, 'comp_100_count': 1086, 'comp_all_count': 2095, 'invested_co': 35390, 'invested_mp': 0, 'invested_co_count': 3, 'invested_mp_count': 0, 'count_comp': 3719, 'count_speedrun': 5, 'count_backlog': 3300, 'count_review': 1184, 'review_score': 89, 'count_playing': 57, 'count_retired': 159, 'profile_popular': 362, 'release_world': 2018}\n"
     ]
    }
   ],
   "execution_count": 64
  },
  {
   "metadata": {},
   "cell_type": "code",
   "outputs": [],
   "execution_count": null,
   "source": "",
   "id": "d1746426b6912c3b"
  }
 ],
 "metadata": {
  "kernelspec": {
   "display_name": "Python 3",
   "language": "python",
   "name": "python3"
  },
  "language_info": {
   "codemirror_mode": {
    "name": "ipython",
    "version": 2
   },
   "file_extension": ".py",
   "mimetype": "text/x-python",
   "name": "python",
   "nbconvert_exporter": "python",
   "pygments_lexer": "ipython2",
   "version": "2.7.6"
  }
 },
 "nbformat": 4,
 "nbformat_minor": 5
}
